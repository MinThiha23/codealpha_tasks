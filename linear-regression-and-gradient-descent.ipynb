{
 "cells": [
  {
   "cell_type": "code",
   "execution_count": 1,
   "id": "e09a56fc",
   "metadata": {
    "_cell_guid": "b1076dfc-b9ad-4769-8c92-a6c4dae69d19",
    "_uuid": "8f2839f25d086af736a60e9eeb907d3b93b6e0e5",
    "execution": {
     "iopub.execute_input": "2025-02-10T17:51:28.020419Z",
     "iopub.status.busy": "2025-02-10T17:51:28.019866Z",
     "iopub.status.idle": "2025-02-10T17:51:28.983549Z",
     "shell.execute_reply": "2025-02-10T17:51:28.982260Z"
    },
    "papermill": {
     "duration": 0.974804,
     "end_time": "2025-02-10T17:51:28.985767",
     "exception": false,
     "start_time": "2025-02-10T17:51:28.010963",
     "status": "completed"
    },
    "tags": []
   },
   "outputs": [
    {
     "name": "stdout",
     "output_type": "stream",
     "text": [
      "/kaggle/input/advertisingcsv/Advertising.csv\n"
     ]
    }
   ],
   "source": [
    "# This Python 3 environment comes with many helpful analytics libraries installed\n",
    "# It is defined by the kaggle/python Docker image: https://github.com/kaggle/docker-python\n",
    "# For example, here's several helpful packages to load\n",
    "\n",
    "import numpy as np # linear algebra\n",
    "import pandas as pd # data processing, CSV file I/O (e.g. pd.read_csv)\n",
    "\n",
    "# Input data files are available in the read-only \"../input/\" directory\n",
    "# For example, running this (by clicking run or pressing Shift+Enter) will list all files under the input directory\n",
    "\n",
    "import os\n",
    "for dirname, _, filenames in os.walk('/kaggle/input'):\n",
    "    for filename in filenames:\n",
    "        print(os.path.join(dirname, filename))\n",
    "\n",
    "# You can write up to 20GB to the current directory (/kaggle/working/) that gets preserved as output when you create a version using \"Save & Run All\" \n",
    "# You can also write temporary files to /kaggle/temp/, but they won't be saved outside of the current session"
   ]
  },
  {
   "cell_type": "code",
   "execution_count": 2,
   "id": "10e933ec",
   "metadata": {
    "execution": {
     "iopub.execute_input": "2025-02-10T17:51:29.000271Z",
     "iopub.status.busy": "2025-02-10T17:51:28.999617Z",
     "iopub.status.idle": "2025-02-10T17:51:29.016979Z",
     "shell.execute_reply": "2025-02-10T17:51:29.015821Z"
    },
    "papermill": {
     "duration": 0.026743,
     "end_time": "2025-02-10T17:51:29.019210",
     "exception": false,
     "start_time": "2025-02-10T17:51:28.992467",
     "status": "completed"
    },
    "tags": []
   },
   "outputs": [],
   "source": [
    "df=pd.read_csv('/kaggle/input/advertisingcsv/Advertising.csv')"
   ]
  },
  {
   "cell_type": "code",
   "execution_count": 3,
   "id": "bf809900",
   "metadata": {
    "execution": {
     "iopub.execute_input": "2025-02-10T17:51:29.033001Z",
     "iopub.status.busy": "2025-02-10T17:51:29.032653Z",
     "iopub.status.idle": "2025-02-10T17:51:29.061937Z",
     "shell.execute_reply": "2025-02-10T17:51:29.060616Z"
    },
    "papermill": {
     "duration": 0.038222,
     "end_time": "2025-02-10T17:51:29.063826",
     "exception": false,
     "start_time": "2025-02-10T17:51:29.025604",
     "status": "completed"
    },
    "tags": []
   },
   "outputs": [
    {
     "data": {
      "text/html": [
       "<div>\n",
       "<style scoped>\n",
       "    .dataframe tbody tr th:only-of-type {\n",
       "        vertical-align: middle;\n",
       "    }\n",
       "\n",
       "    .dataframe tbody tr th {\n",
       "        vertical-align: top;\n",
       "    }\n",
       "\n",
       "    .dataframe thead th {\n",
       "        text-align: right;\n",
       "    }\n",
       "</style>\n",
       "<table border=\"1\" class=\"dataframe\">\n",
       "  <thead>\n",
       "    <tr style=\"text-align: right;\">\n",
       "      <th></th>\n",
       "      <th>Unnamed: 0</th>\n",
       "      <th>TV</th>\n",
       "      <th>Radio</th>\n",
       "      <th>Newspaper</th>\n",
       "      <th>Sales</th>\n",
       "    </tr>\n",
       "  </thead>\n",
       "  <tbody>\n",
       "    <tr>\n",
       "      <th>0</th>\n",
       "      <td>1</td>\n",
       "      <td>230.1</td>\n",
       "      <td>37.8</td>\n",
       "      <td>69.2</td>\n",
       "      <td>22.1</td>\n",
       "    </tr>\n",
       "    <tr>\n",
       "      <th>1</th>\n",
       "      <td>2</td>\n",
       "      <td>44.5</td>\n",
       "      <td>39.3</td>\n",
       "      <td>45.1</td>\n",
       "      <td>10.4</td>\n",
       "    </tr>\n",
       "    <tr>\n",
       "      <th>2</th>\n",
       "      <td>3</td>\n",
       "      <td>17.2</td>\n",
       "      <td>45.9</td>\n",
       "      <td>69.3</td>\n",
       "      <td>9.3</td>\n",
       "    </tr>\n",
       "    <tr>\n",
       "      <th>3</th>\n",
       "      <td>4</td>\n",
       "      <td>151.5</td>\n",
       "      <td>41.3</td>\n",
       "      <td>58.5</td>\n",
       "      <td>18.5</td>\n",
       "    </tr>\n",
       "    <tr>\n",
       "      <th>4</th>\n",
       "      <td>5</td>\n",
       "      <td>180.8</td>\n",
       "      <td>10.8</td>\n",
       "      <td>58.4</td>\n",
       "      <td>12.9</td>\n",
       "    </tr>\n",
       "  </tbody>\n",
       "</table>\n",
       "</div>"
      ],
      "text/plain": [
       "   Unnamed: 0     TV  Radio  Newspaper  Sales\n",
       "0           1  230.1   37.8       69.2   22.1\n",
       "1           2   44.5   39.3       45.1   10.4\n",
       "2           3   17.2   45.9       69.3    9.3\n",
       "3           4  151.5   41.3       58.5   18.5\n",
       "4           5  180.8   10.8       58.4   12.9"
      ]
     },
     "execution_count": 3,
     "metadata": {},
     "output_type": "execute_result"
    }
   ],
   "source": [
    "df.head()"
   ]
  },
  {
   "cell_type": "code",
   "execution_count": 4,
   "id": "75f20883",
   "metadata": {
    "execution": {
     "iopub.execute_input": "2025-02-10T17:51:29.077840Z",
     "iopub.status.busy": "2025-02-10T17:51:29.077433Z",
     "iopub.status.idle": "2025-02-10T17:51:29.084785Z",
     "shell.execute_reply": "2025-02-10T17:51:29.083509Z"
    },
    "papermill": {
     "duration": 0.01622,
     "end_time": "2025-02-10T17:51:29.086500",
     "exception": false,
     "start_time": "2025-02-10T17:51:29.070280",
     "status": "completed"
    },
    "tags": []
   },
   "outputs": [
    {
     "data": {
      "text/plain": [
       "Index(['Unnamed: 0', 'TV', 'Radio', 'Newspaper', 'Sales'], dtype='object')"
      ]
     },
     "execution_count": 4,
     "metadata": {},
     "output_type": "execute_result"
    }
   ],
   "source": [
    "df.columns"
   ]
  },
  {
   "cell_type": "code",
   "execution_count": 5,
   "id": "55365140",
   "metadata": {
    "execution": {
     "iopub.execute_input": "2025-02-10T17:51:29.100471Z",
     "iopub.status.busy": "2025-02-10T17:51:29.100007Z",
     "iopub.status.idle": "2025-02-10T17:51:29.111380Z",
     "shell.execute_reply": "2025-02-10T17:51:29.110238Z"
    },
    "papermill": {
     "duration": 0.020329,
     "end_time": "2025-02-10T17:51:29.113047",
     "exception": false,
     "start_time": "2025-02-10T17:51:29.092718",
     "status": "completed"
    },
    "tags": []
   },
   "outputs": [],
   "source": [
    "df.drop('Unnamed: 0',inplace=True,axis=1)"
   ]
  },
  {
   "cell_type": "code",
   "execution_count": 6,
   "id": "0489b237",
   "metadata": {
    "execution": {
     "iopub.execute_input": "2025-02-10T17:51:29.127186Z",
     "iopub.status.busy": "2025-02-10T17:51:29.126761Z",
     "iopub.status.idle": "2025-02-10T17:51:29.139484Z",
     "shell.execute_reply": "2025-02-10T17:51:29.138076Z"
    },
    "papermill": {
     "duration": 0.022111,
     "end_time": "2025-02-10T17:51:29.141621",
     "exception": false,
     "start_time": "2025-02-10T17:51:29.119510",
     "status": "completed"
    },
    "tags": []
   },
   "outputs": [
    {
     "data": {
      "text/html": [
       "<div>\n",
       "<style scoped>\n",
       "    .dataframe tbody tr th:only-of-type {\n",
       "        vertical-align: middle;\n",
       "    }\n",
       "\n",
       "    .dataframe tbody tr th {\n",
       "        vertical-align: top;\n",
       "    }\n",
       "\n",
       "    .dataframe thead th {\n",
       "        text-align: right;\n",
       "    }\n",
       "</style>\n",
       "<table border=\"1\" class=\"dataframe\">\n",
       "  <thead>\n",
       "    <tr style=\"text-align: right;\">\n",
       "      <th></th>\n",
       "      <th>TV</th>\n",
       "      <th>Radio</th>\n",
       "      <th>Newspaper</th>\n",
       "      <th>Sales</th>\n",
       "    </tr>\n",
       "  </thead>\n",
       "  <tbody>\n",
       "    <tr>\n",
       "      <th>0</th>\n",
       "      <td>230.1</td>\n",
       "      <td>37.8</td>\n",
       "      <td>69.2</td>\n",
       "      <td>22.1</td>\n",
       "    </tr>\n",
       "    <tr>\n",
       "      <th>1</th>\n",
       "      <td>44.5</td>\n",
       "      <td>39.3</td>\n",
       "      <td>45.1</td>\n",
       "      <td>10.4</td>\n",
       "    </tr>\n",
       "    <tr>\n",
       "      <th>2</th>\n",
       "      <td>17.2</td>\n",
       "      <td>45.9</td>\n",
       "      <td>69.3</td>\n",
       "      <td>9.3</td>\n",
       "    </tr>\n",
       "    <tr>\n",
       "      <th>3</th>\n",
       "      <td>151.5</td>\n",
       "      <td>41.3</td>\n",
       "      <td>58.5</td>\n",
       "      <td>18.5</td>\n",
       "    </tr>\n",
       "    <tr>\n",
       "      <th>4</th>\n",
       "      <td>180.8</td>\n",
       "      <td>10.8</td>\n",
       "      <td>58.4</td>\n",
       "      <td>12.9</td>\n",
       "    </tr>\n",
       "  </tbody>\n",
       "</table>\n",
       "</div>"
      ],
      "text/plain": [
       "      TV  Radio  Newspaper  Sales\n",
       "0  230.1   37.8       69.2   22.1\n",
       "1   44.5   39.3       45.1   10.4\n",
       "2   17.2   45.9       69.3    9.3\n",
       "3  151.5   41.3       58.5   18.5\n",
       "4  180.8   10.8       58.4   12.9"
      ]
     },
     "execution_count": 6,
     "metadata": {},
     "output_type": "execute_result"
    }
   ],
   "source": [
    "df.head()"
   ]
  },
  {
   "cell_type": "code",
   "execution_count": 7,
   "id": "65fd4b96",
   "metadata": {
    "execution": {
     "iopub.execute_input": "2025-02-10T17:51:29.156016Z",
     "iopub.status.busy": "2025-02-10T17:51:29.155590Z",
     "iopub.status.idle": "2025-02-10T17:51:29.162112Z",
     "shell.execute_reply": "2025-02-10T17:51:29.160874Z"
    },
    "papermill": {
     "duration": 0.01563,
     "end_time": "2025-02-10T17:51:29.163832",
     "exception": false,
     "start_time": "2025-02-10T17:51:29.148202",
     "status": "completed"
    },
    "tags": []
   },
   "outputs": [
    {
     "data": {
      "text/plain": [
       "(200, 4)"
      ]
     },
     "execution_count": 7,
     "metadata": {},
     "output_type": "execute_result"
    }
   ],
   "source": [
    "df.shape"
   ]
  },
  {
   "cell_type": "code",
   "execution_count": 8,
   "id": "610070ed",
   "metadata": {
    "execution": {
     "iopub.execute_input": "2025-02-10T17:51:29.179092Z",
     "iopub.status.busy": "2025-02-10T17:51:29.178687Z",
     "iopub.status.idle": "2025-02-10T17:51:29.189187Z",
     "shell.execute_reply": "2025-02-10T17:51:29.187525Z"
    },
    "papermill": {
     "duration": 0.020427,
     "end_time": "2025-02-10T17:51:29.191070",
     "exception": false,
     "start_time": "2025-02-10T17:51:29.170643",
     "status": "completed"
    },
    "tags": []
   },
   "outputs": [
    {
     "data": {
      "text/plain": [
       "TV           0\n",
       "Radio        0\n",
       "Newspaper    0\n",
       "Sales        0\n",
       "dtype: int64"
      ]
     },
     "execution_count": 8,
     "metadata": {},
     "output_type": "execute_result"
    }
   ],
   "source": [
    "df.isnull().sum()"
   ]
  },
  {
   "cell_type": "code",
   "execution_count": 9,
   "id": "9c9727d2",
   "metadata": {
    "execution": {
     "iopub.execute_input": "2025-02-10T17:51:29.206954Z",
     "iopub.status.busy": "2025-02-10T17:51:29.206562Z",
     "iopub.status.idle": "2025-02-10T17:51:29.214823Z",
     "shell.execute_reply": "2025-02-10T17:51:29.213855Z"
    },
    "papermill": {
     "duration": 0.01847,
     "end_time": "2025-02-10T17:51:29.216559",
     "exception": false,
     "start_time": "2025-02-10T17:51:29.198089",
     "status": "completed"
    },
    "tags": []
   },
   "outputs": [
    {
     "data": {
      "text/plain": [
       "TV           0\n",
       "Radio        0\n",
       "Newspaper    0\n",
       "Sales        0\n",
       "dtype: int64"
      ]
     },
     "execution_count": 9,
     "metadata": {},
     "output_type": "execute_result"
    }
   ],
   "source": [
    "df.isna().sum()"
   ]
  },
  {
   "cell_type": "code",
   "execution_count": 10,
   "id": "13456c58",
   "metadata": {
    "execution": {
     "iopub.execute_input": "2025-02-10T17:51:29.231277Z",
     "iopub.status.busy": "2025-02-10T17:51:29.230875Z",
     "iopub.status.idle": "2025-02-10T17:51:29.237208Z",
     "shell.execute_reply": "2025-02-10T17:51:29.236032Z"
    },
    "papermill": {
     "duration": 0.015768,
     "end_time": "2025-02-10T17:51:29.239049",
     "exception": false,
     "start_time": "2025-02-10T17:51:29.223281",
     "status": "completed"
    },
    "tags": []
   },
   "outputs": [],
   "source": [
    "X=df.drop('Sales',axis=1)\n",
    "y=df['Sales']"
   ]
  },
  {
   "cell_type": "code",
   "execution_count": 11,
   "id": "e412c2eb",
   "metadata": {
    "execution": {
     "iopub.execute_input": "2025-02-10T17:51:29.254810Z",
     "iopub.status.busy": "2025-02-10T17:51:29.254392Z",
     "iopub.status.idle": "2025-02-10T17:51:30.684017Z",
     "shell.execute_reply": "2025-02-10T17:51:30.682258Z"
    },
    "papermill": {
     "duration": 1.440118,
     "end_time": "2025-02-10T17:51:30.686393",
     "exception": false,
     "start_time": "2025-02-10T17:51:29.246275",
     "status": "completed"
    },
    "tags": []
   },
   "outputs": [],
   "source": [
    "from sklearn.preprocessing import StandardScaler"
   ]
  },
  {
   "cell_type": "code",
   "execution_count": 12,
   "id": "9d367709",
   "metadata": {
    "execution": {
     "iopub.execute_input": "2025-02-10T17:51:30.702533Z",
     "iopub.status.busy": "2025-02-10T17:51:30.701839Z",
     "iopub.status.idle": "2025-02-10T17:51:30.945356Z",
     "shell.execute_reply": "2025-02-10T17:51:30.944022Z"
    },
    "papermill": {
     "duration": 0.254344,
     "end_time": "2025-02-10T17:51:30.947743",
     "exception": false,
     "start_time": "2025-02-10T17:51:30.693399",
     "status": "completed"
    },
    "tags": []
   },
   "outputs": [],
   "source": [
    "# directly go with linear regression-sklearn uses normal equation so no gradient descent needed\n",
    "import matplotlib.pyplot as plt\n",
    "from sklearn.linear_model import LinearRegression\n",
    "from sklearn.metrics import mean_squared_error"
   ]
  },
  {
   "cell_type": "code",
   "execution_count": 13,
   "id": "927d05dd",
   "metadata": {
    "execution": {
     "iopub.execute_input": "2025-02-10T17:51:30.963238Z",
     "iopub.status.busy": "2025-02-10T17:51:30.962773Z",
     "iopub.status.idle": "2025-02-10T17:51:30.967633Z",
     "shell.execute_reply": "2025-02-10T17:51:30.966590Z"
    },
    "papermill": {
     "duration": 0.014875,
     "end_time": "2025-02-10T17:51:30.969731",
     "exception": false,
     "start_time": "2025-02-10T17:51:30.954856",
     "status": "completed"
    },
    "tags": []
   },
   "outputs": [],
   "source": [
    "model=LinearRegression()"
   ]
  },
  {
   "cell_type": "code",
   "execution_count": 14,
   "id": "38675710",
   "metadata": {
    "execution": {
     "iopub.execute_input": "2025-02-10T17:51:30.985431Z",
     "iopub.status.busy": "2025-02-10T17:51:30.984971Z",
     "iopub.status.idle": "2025-02-10T17:51:31.044755Z",
     "shell.execute_reply": "2025-02-10T17:51:31.043639Z"
    },
    "papermill": {
     "duration": 0.069915,
     "end_time": "2025-02-10T17:51:31.046637",
     "exception": false,
     "start_time": "2025-02-10T17:51:30.976722",
     "status": "completed"
    },
    "tags": []
   },
   "outputs": [
    {
     "data": {
      "text/html": [
       "<style>#sk-container-id-1 {color: black;background-color: white;}#sk-container-id-1 pre{padding: 0;}#sk-container-id-1 div.sk-toggleable {background-color: white;}#sk-container-id-1 label.sk-toggleable__label {cursor: pointer;display: block;width: 100%;margin-bottom: 0;padding: 0.3em;box-sizing: border-box;text-align: center;}#sk-container-id-1 label.sk-toggleable__label-arrow:before {content: \"▸\";float: left;margin-right: 0.25em;color: #696969;}#sk-container-id-1 label.sk-toggleable__label-arrow:hover:before {color: black;}#sk-container-id-1 div.sk-estimator:hover label.sk-toggleable__label-arrow:before {color: black;}#sk-container-id-1 div.sk-toggleable__content {max-height: 0;max-width: 0;overflow: hidden;text-align: left;background-color: #f0f8ff;}#sk-container-id-1 div.sk-toggleable__content pre {margin: 0.2em;color: black;border-radius: 0.25em;background-color: #f0f8ff;}#sk-container-id-1 input.sk-toggleable__control:checked~div.sk-toggleable__content {max-height: 200px;max-width: 100%;overflow: auto;}#sk-container-id-1 input.sk-toggleable__control:checked~label.sk-toggleable__label-arrow:before {content: \"▾\";}#sk-container-id-1 div.sk-estimator input.sk-toggleable__control:checked~label.sk-toggleable__label {background-color: #d4ebff;}#sk-container-id-1 div.sk-label input.sk-toggleable__control:checked~label.sk-toggleable__label {background-color: #d4ebff;}#sk-container-id-1 input.sk-hidden--visually {border: 0;clip: rect(1px 1px 1px 1px);clip: rect(1px, 1px, 1px, 1px);height: 1px;margin: -1px;overflow: hidden;padding: 0;position: absolute;width: 1px;}#sk-container-id-1 div.sk-estimator {font-family: monospace;background-color: #f0f8ff;border: 1px dotted black;border-radius: 0.25em;box-sizing: border-box;margin-bottom: 0.5em;}#sk-container-id-1 div.sk-estimator:hover {background-color: #d4ebff;}#sk-container-id-1 div.sk-parallel-item::after {content: \"\";width: 100%;border-bottom: 1px solid gray;flex-grow: 1;}#sk-container-id-1 div.sk-label:hover label.sk-toggleable__label {background-color: #d4ebff;}#sk-container-id-1 div.sk-serial::before {content: \"\";position: absolute;border-left: 1px solid gray;box-sizing: border-box;top: 0;bottom: 0;left: 50%;z-index: 0;}#sk-container-id-1 div.sk-serial {display: flex;flex-direction: column;align-items: center;background-color: white;padding-right: 0.2em;padding-left: 0.2em;position: relative;}#sk-container-id-1 div.sk-item {position: relative;z-index: 1;}#sk-container-id-1 div.sk-parallel {display: flex;align-items: stretch;justify-content: center;background-color: white;position: relative;}#sk-container-id-1 div.sk-item::before, #sk-container-id-1 div.sk-parallel-item::before {content: \"\";position: absolute;border-left: 1px solid gray;box-sizing: border-box;top: 0;bottom: 0;left: 50%;z-index: -1;}#sk-container-id-1 div.sk-parallel-item {display: flex;flex-direction: column;z-index: 1;position: relative;background-color: white;}#sk-container-id-1 div.sk-parallel-item:first-child::after {align-self: flex-end;width: 50%;}#sk-container-id-1 div.sk-parallel-item:last-child::after {align-self: flex-start;width: 50%;}#sk-container-id-1 div.sk-parallel-item:only-child::after {width: 0;}#sk-container-id-1 div.sk-dashed-wrapped {border: 1px dashed gray;margin: 0 0.4em 0.5em 0.4em;box-sizing: border-box;padding-bottom: 0.4em;background-color: white;}#sk-container-id-1 div.sk-label label {font-family: monospace;font-weight: bold;display: inline-block;line-height: 1.2em;}#sk-container-id-1 div.sk-label-container {text-align: center;}#sk-container-id-1 div.sk-container {/* jupyter's `normalize.less` sets `[hidden] { display: none; }` but bootstrap.min.css set `[hidden] { display: none !important; }` so we also need the `!important` here to be able to override the default hidden behavior on the sphinx rendered scikit-learn.org. See: https://github.com/scikit-learn/scikit-learn/issues/21755 */display: inline-block !important;position: relative;}#sk-container-id-1 div.sk-text-repr-fallback {display: none;}</style><div id=\"sk-container-id-1\" class=\"sk-top-container\"><div class=\"sk-text-repr-fallback\"><pre>LinearRegression()</pre><b>In a Jupyter environment, please rerun this cell to show the HTML representation or trust the notebook. <br />On GitHub, the HTML representation is unable to render, please try loading this page with nbviewer.org.</b></div><div class=\"sk-container\" hidden><div class=\"sk-item\"><div class=\"sk-estimator sk-toggleable\"><input class=\"sk-toggleable__control sk-hidden--visually\" id=\"sk-estimator-id-1\" type=\"checkbox\" checked><label for=\"sk-estimator-id-1\" class=\"sk-toggleable__label sk-toggleable__label-arrow\">LinearRegression</label><div class=\"sk-toggleable__content\"><pre>LinearRegression()</pre></div></div></div></div></div>"
      ],
      "text/plain": [
       "LinearRegression()"
      ]
     },
     "execution_count": 14,
     "metadata": {},
     "output_type": "execute_result"
    }
   ],
   "source": [
    "model.fit(X,y)"
   ]
  },
  {
   "cell_type": "code",
   "execution_count": 15,
   "id": "6e2940c4",
   "metadata": {
    "execution": {
     "iopub.execute_input": "2025-02-10T17:51:31.062617Z",
     "iopub.status.busy": "2025-02-10T17:51:31.062174Z",
     "iopub.status.idle": "2025-02-10T17:51:31.070474Z",
     "shell.execute_reply": "2025-02-10T17:51:31.069235Z"
    },
    "papermill": {
     "duration": 0.018425,
     "end_time": "2025-02-10T17:51:31.072199",
     "exception": false,
     "start_time": "2025-02-10T17:51:31.053774",
     "status": "completed"
    },
    "tags": []
   },
   "outputs": [],
   "source": [
    "y_pred=model.predict(X)"
   ]
  },
  {
   "cell_type": "code",
   "execution_count": 16,
   "id": "60671d42",
   "metadata": {
    "execution": {
     "iopub.execute_input": "2025-02-10T17:51:31.088427Z",
     "iopub.status.busy": "2025-02-10T17:51:31.087927Z",
     "iopub.status.idle": "2025-02-10T17:51:31.096360Z",
     "shell.execute_reply": "2025-02-10T17:51:31.094997Z"
    },
    "papermill": {
     "duration": 0.019288,
     "end_time": "2025-02-10T17:51:31.098431",
     "exception": false,
     "start_time": "2025-02-10T17:51:31.079143",
     "status": "completed"
    },
    "tags": []
   },
   "outputs": [
    {
     "name": "stdout",
     "output_type": "stream",
     "text": [
      "Intercept (theta_0): 2.94\n",
      "Coefficients (theta_1, theta_2, theta_3): [ 0.04576465  0.18853002 -0.00103749]\n",
      "Cost Function Value: 1.3921\n"
     ]
    }
   ],
   "source": [
    "print(f\"Intercept (theta_0): {model.intercept_:.2f}\")\n",
    "print(f\"Coefficients (theta_1, theta_2, theta_3): {model.coef_}\")\n",
    "cost = mean_squared_error(y, y_pred) / 2\n",
    "print(f\"Cost Function Value: {cost:.4f}\")"
   ]
  },
  {
   "cell_type": "code",
   "execution_count": 17,
   "id": "1978578e",
   "metadata": {
    "execution": {
     "iopub.execute_input": "2025-02-10T17:51:31.114350Z",
     "iopub.status.busy": "2025-02-10T17:51:31.113886Z",
     "iopub.status.idle": "2025-02-10T17:51:31.451297Z",
     "shell.execute_reply": "2025-02-10T17:51:31.450004Z"
    },
    "papermill": {
     "duration": 0.347181,
     "end_time": "2025-02-10T17:51:31.452955",
     "exception": false,
     "start_time": "2025-02-10T17:51:31.105774",
     "status": "completed"
    },
    "tags": []
   },
   "outputs": [
    {
     "data": {
      "image/png": "[encoded data removed]",
      "text/plain": [
       "<Figure size 800x500 with 1 Axes>"
      ]
     },
     "metadata": {},
     "output_type": "display_data"
    }
   ],
   "source": [
    "plt.figure(figsize=(8, 5))\n",
    "plt.scatter(y, y_pred, color='blue', alpha=0.6, label=\"Predictions\")\n",
    "plt.plot([min(y), max(y)], [min(y), max(y)], color='red', linestyle=\"--\", label=\"Perfect Fit\")\n",
    "plt.xlabel(\"Actual Values (y)\")\n",
    "plt.ylabel(\"Predicted Values\")\n",
    "plt.title(\"Actual vs. Predicted Values\")\n",
    "plt.legend()\n",
    "plt.show()"
   ]
  },
  {
   "cell_type": "code",
   "execution_count": 18,
   "id": "a1d175cc",
   "metadata": {
    "execution": {
     "iopub.execute_input": "2025-02-10T17:51:31.471167Z",
     "iopub.status.busy": "2025-02-10T17:51:31.470626Z",
     "iopub.status.idle": "2025-02-10T17:51:31.475296Z",
     "shell.execute_reply": "2025-02-10T17:51:31.473973Z"
    },
    "papermill": {
     "duration": 0.016005,
     "end_time": "2025-02-10T17:51:31.477377",
     "exception": false,
     "start_time": "2025-02-10T17:51:31.461372",
     "status": "completed"
    },
    "tags": []
   },
   "outputs": [],
   "source": [
    "# now without the library can we do it based on our understanding\n"
   ]
  },
  {
   "cell_type": "code",
   "execution_count": 19,
   "id": "a0d1636e",
   "metadata": {
    "execution": {
     "iopub.execute_input": "2025-02-10T17:51:31.496330Z",
     "iopub.status.busy": "2025-02-10T17:51:31.495866Z",
     "iopub.status.idle": "2025-02-10T17:51:31.500900Z",
     "shell.execute_reply": "2025-02-10T17:51:31.499701Z"
    },
    "papermill": {
     "duration": 0.016664,
     "end_time": "2025-02-10T17:51:31.502756",
     "exception": false,
     "start_time": "2025-02-10T17:51:31.486092",
     "status": "completed"
    },
    "tags": []
   },
   "outputs": [],
   "source": [
    "from sklearn.preprocessing import StandardScaler"
   ]
  },
  {
   "cell_type": "code",
   "execution_count": 20,
   "id": "4b254020",
   "metadata": {
    "execution": {
     "iopub.execute_input": "2025-02-10T17:51:31.521798Z",
     "iopub.status.busy": "2025-02-10T17:51:31.521391Z",
     "iopub.status.idle": "2025-02-10T17:51:31.527307Z",
     "shell.execute_reply": "2025-02-10T17:51:31.526041Z"
    },
    "papermill": {
     "duration": 0.01768,
     "end_time": "2025-02-10T17:51:31.529198",
     "exception": false,
     "start_time": "2025-02-10T17:51:31.511518",
     "status": "completed"
    },
    "tags": []
   },
   "outputs": [],
   "source": [
    "X_train=df.drop('Sales',axis=1)"
   ]
  },
  {
   "cell_type": "code",
   "execution_count": 21,
   "id": "5129cf90",
   "metadata": {
    "execution": {
     "iopub.execute_input": "2025-02-10T17:51:31.548048Z",
     "iopub.status.busy": "2025-02-10T17:51:31.547636Z",
     "iopub.status.idle": "2025-02-10T17:51:31.552151Z",
     "shell.execute_reply": "2025-02-10T17:51:31.551007Z"
    },
    "papermill": {
     "duration": 0.016228,
     "end_time": "2025-02-10T17:51:31.554076",
     "exception": false,
     "start_time": "2025-02-10T17:51:31.537848",
     "status": "completed"
    },
    "tags": []
   },
   "outputs": [],
   "source": [
    "y_train=df['Sales']"
   ]
  },
  {
   "cell_type": "code",
   "execution_count": 22,
   "id": "16dfa075",
   "metadata": {
    "execution": {
     "iopub.execute_input": "2025-02-10T17:51:31.573262Z",
     "iopub.status.busy": "2025-02-10T17:51:31.572813Z",
     "iopub.status.idle": "2025-02-10T17:51:31.582944Z",
     "shell.execute_reply": "2025-02-10T17:51:31.581510Z"
    },
    "papermill": {
     "duration": 0.022071,
     "end_time": "2025-02-10T17:51:31.584970",
     "exception": false,
     "start_time": "2025-02-10T17:51:31.562899",
     "status": "completed"
    },
    "tags": []
   },
   "outputs": [],
   "source": [
    "# standardization\n",
    "X_mean=X_train.mean(axis=0)\n",
    "X_std=X_train.std(axis=0)\n",
    "\n",
    "X_standardized=(X_train-X_mean)/X_std"
   ]
  },
  {
   "cell_type": "code",
   "execution_count": 23,
   "id": "a3793927",
   "metadata": {
    "execution": {
     "iopub.execute_input": "2025-02-10T17:51:31.604264Z",
     "iopub.status.busy": "2025-02-10T17:51:31.603827Z",
     "iopub.status.idle": "2025-02-10T17:51:31.610728Z",
     "shell.execute_reply": "2025-02-10T17:51:31.608966Z"
    },
    "papermill": {
     "duration": 0.018569,
     "end_time": "2025-02-10T17:51:31.612576",
     "exception": false,
     "start_time": "2025-02-10T17:51:31.594007",
     "status": "completed"
    },
    "tags": []
   },
   "outputs": [
    {
     "name": "stdout",
     "output_type": "stream",
     "text": [
      "X_bias shape: (200, 4)\n"
     ]
    }
   ],
   "source": [
    "# adding bias term y=mx+c which will represent the baseline\n",
    "X_bias=np.c_[np.ones((X_standardized.shape[0], 1)), X_standardized]\n",
    "print(\"X_bias shape:\", X_bias.shape)"
   ]
  },
  {
   "cell_type": "code",
   "execution_count": 24,
   "id": "2b7676fb",
   "metadata": {
    "execution": {
     "iopub.execute_input": "2025-02-10T17:51:31.631327Z",
     "iopub.status.busy": "2025-02-10T17:51:31.630884Z",
     "iopub.status.idle": "2025-02-10T17:51:31.713923Z",
     "shell.execute_reply": "2025-02-10T17:51:31.711761Z"
    },
    "papermill": {
     "duration": 0.095101,
     "end_time": "2025-02-10T17:51:31.716301",
     "exception": false,
     "start_time": "2025-02-10T17:51:31.621200",
     "status": "completed"
    },
    "tags": []
   },
   "outputs": [
    {
     "name": "stdout",
     "output_type": "stream",
     "text": [
      "\n",
      "Final Weights: [13.8136292   3.87409864  2.70122726  0.08042193]\n"
     ]
    }
   ],
   "source": [
    "theta = np.random.randn(X_bias.shape[1])\n",
    "learning_rate = 0.01\n",
    "epochs = 200\n",
    "loss_history = []\n",
    "for epoch in range(epochs):\n",
    "    y_pred = np.dot(X_bias, theta)\n",
    "    error = y_pred - y\n",
    "    loss = (1 / len(y)) * np.sum(error ** 2)\n",
    "    loss_history.append(loss)\n",
    "    gradient = (2 / len(y)) * np.dot(X_bias.T, error)\n",
    "    theta -= learning_rate * gradient\n",
    "print(\"\\nFinal Weights:\", theta)\n"
   ]
  },
  {
   "cell_type": "code",
   "execution_count": 25,
   "id": "d059f44d",
   "metadata": {
    "execution": {
     "iopub.execute_input": "2025-02-10T17:51:31.735501Z",
     "iopub.status.busy": "2025-02-10T17:51:31.735034Z",
     "iopub.status.idle": "2025-02-10T17:51:31.745377Z",
     "shell.execute_reply": "2025-02-10T17:51:31.743832Z"
    },
    "papermill": {
     "duration": 0.022131,
     "end_time": "2025-02-10T17:51:31.747393",
     "exception": false,
     "start_time": "2025-02-10T17:51:31.725262",
     "status": "completed"
    },
    "tags": []
   },
   "outputs": [
    {
     "name": "stdout",
     "output_type": "stream",
     "text": [
      "MSE: 2.8437\n",
      "RMSE: 1.6863\n",
      "MAE: 1.3190\n",
      "R² Score: 0.8950\n"
     ]
    }
   ],
   "source": [
    "from sklearn.metrics import mean_squared_error, mean_absolute_error, r2_score\n",
    "y_pred = np.dot(X_bias, theta)\n",
    "mse = mean_squared_error(y, y_pred)\n",
    "rmse = np.sqrt(mse) \n",
    "mae = mean_absolute_error(y, y_pred)\n",
    "r2 = r2_score(y, y_pred) \n",
    "\n",
    "print(f\"MSE: {mse:.4f}\")\n",
    "print(f\"RMSE: {rmse:.4f}\")\n",
    "print(f\"MAE: {mae:.4f}\")\n",
    "print(f\"R² Score: {r2:.4f}\")"
   ]
  },
  {
   "cell_type": "code",
   "execution_count": 26,
   "id": "13921369",
   "metadata": {
    "execution": {
     "iopub.execute_input": "2025-02-10T17:51:31.765506Z",
     "iopub.status.busy": "2025-02-10T17:51:31.765051Z",
     "iopub.status.idle": "2025-02-10T17:51:31.994618Z",
     "shell.execute_reply": "2025-02-10T17:51:31.993216Z"
    },
    "papermill": {
     "duration": 0.240838,
     "end_time": "2025-02-10T17:51:31.996689",
     "exception": false,
     "start_time": "2025-02-10T17:51:31.755851",
     "status": "completed"
    },
    "tags": []
   },
   "outputs": [
    {
     "data": {
      "image/png": "[encoded data removed]",
      "text/plain": [
       "<Figure size 800x500 with 1 Axes>"
      ]
     },
     "metadata": {},
     "output_type": "display_data"
    }
   ],
   "source": [
    "import matplotlib.pyplot as plt\n",
    "\n",
    "plt.figure(figsize=(8,5))\n",
    "plt.plot(range(epochs), loss_history, color=\"red\")\n",
    "plt.xlabel(\"Iterations\")\n",
    "plt.ylabel(\"MSE Loss\")\n",
    "plt.title(\"Loss Function Convergence\")\n",
    "plt.show()\n"
   ]
  },
  {
   "cell_type": "code",
   "execution_count": 27,
   "id": "9c3d8a8a",
   "metadata": {
    "execution": {
     "iopub.execute_input": "2025-02-10T17:51:32.016511Z",
     "iopub.status.busy": "2025-02-10T17:51:32.016047Z",
     "iopub.status.idle": "2025-02-10T17:51:32.235286Z",
     "shell.execute_reply": "2025-02-10T17:51:32.234081Z"
    },
    "papermill": {
     "duration": 0.231455,
     "end_time": "2025-02-10T17:51:32.237161",
     "exception": false,
     "start_time": "2025-02-10T17:51:32.005706",
     "status": "completed"
    },
    "tags": []
   },
   "outputs": [
    {
     "data": {
      "image/png": "[encoded data removed]",
      "text/plain": [
       "<Figure size 800x500 with 1 Axes>"
      ]
     },
     "metadata": {},
     "output_type": "display_data"
    }
   ],
   "source": [
    "residuals = y - y_pred \n",
    "plt.figure(figsize=(8,5))\n",
    "plt.scatter(y_pred, residuals, color=\"blue\", alpha=0.5)\n",
    "plt.axhline(y=0, color=\"red\", linestyle=\"--\")\n",
    "plt.xlabel(\"Predicted Values\")\n",
    "plt.ylabel(\"Residuals (Errors)\")\n",
    "plt.title(\"Residual Plot\")\n",
    "plt.show()"
   ]
  },
  {
   "cell_type": "code",
   "execution_count": 28,
   "id": "c698be44",
   "metadata": {
    "execution": {
     "iopub.execute_input": "2025-02-10T17:51:32.258603Z",
     "iopub.status.busy": "2025-02-10T17:51:32.258153Z",
     "iopub.status.idle": "2025-02-10T17:51:32.465360Z",
     "shell.execute_reply": "2025-02-10T17:51:32.464074Z"
    },
    "papermill": {
     "duration": 0.220388,
     "end_time": "2025-02-10T17:51:32.467611",
     "exception": false,
     "start_time": "2025-02-10T17:51:32.247223",
     "status": "completed"
    },
    "tags": []
   },
   "outputs": [
    {
     "data": {
      "image/png": "[encoded data removed]",
      "text/plain": [
       "<Figure size 800x500 with 1 Axes>"
      ]
     },
     "metadata": {},
     "output_type": "display_data"
    }
   ],
   "source": [
    "plt.figure(figsize=(8,5))\n",
    "plt.scatter(y, y_pred, color=\"green\", alpha=0.5)\n",
    "plt.plot([min(y), max(y)], [min(y), max(y)], color=\"red\", linestyle=\"--\")  # Ideal 1:1 line\n",
    "plt.xlabel(\"Actual Values\")\n",
    "plt.ylabel(\"Predicted Values\")\n",
    "plt.title(\"Actual vs. Predicted Values\")\n",
    "plt.show()\n"
   ]
  },
  {
   "cell_type": "code",
   "execution_count": null,
   "id": "a0b5228e",
   "metadata": {
    "papermill": {
     "duration": 0.010968,
     "end_time": "2025-02-10T17:51:32.490247",
     "exception": false,
     "start_time": "2025-02-10T17:51:32.479279",
     "status": "completed"
    },
    "tags": []
   },
   "outputs": [],
   "source": []
  }
 ],
 "metadata": {
  "kaggle": {
   "accelerator": "none",
   "dataSources": [
    {
     "datasetId": 582088,
     "sourceId": 1052144,
     "sourceType": "datasetVersion"
    }
   ],
   "dockerImageVersionId": 30886,
   "isGpuEnabled": false,
   "isInternetEnabled": true,
   "language": "python",
   "sourceType": "notebook"
  },
  "kernelspec": {
   "display_name": "Python 3",
   "language": "python",
   "name": "python3"
  },
  "language_info": {
   "codemirror_mode": {
    "name": "ipython",
    "version": 3
   },
   "file_extension": ".py",
   "mimetype": "text/x-python",
   "name": "python",
   "nbconvert_exporter": "python",
   "pygments_lexer": "ipython3",
   "version": "3.10.12"
  },
  "papermill": {
   "default_parameters": {},
   "duration": 8.823883,
   "end_time": "2025-02-10T17:51:33.224518",
   "environment_variables": {},
   "exception": null,
   "input_path": "__notebook__.ipynb",
   "output_path": "__notebook__.ipynb",
   "parameters": {},
   "start_time": "2025-02-10T17:51:24.400635",
   "version": "2.6.0"
  }
 },
 "nbformat": 4,
 "nbformat_minor": 5
}
