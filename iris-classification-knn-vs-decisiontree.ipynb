{
 "cells": [
  {
   "cell_type": "markdown",
   "id": "50bbf26c",
   "metadata": {
    "papermill": {
     "duration": 0.005743,
     "end_time": "2025-02-23T10:10:36.778659",
     "exception": false,
     "start_time": "2025-02-23T10:10:36.772916",
     "status": "completed"
    },
    "tags": []
   },
   "source": [
    "# Importing Tools And Standard Libraries"
   ]
  },
  {
   "cell_type": "code",
   "execution_count": 1,
   "id": "2de13416",
   "metadata": {
    "_cell_guid": "b1076dfc-b9ad-4769-8c92-a6c4dae69d19",
    "_uuid": "8f2839f25d086af736a60e9eeb907d3b93b6e0e5",
    "execution": {
     "iopub.execute_input": "2025-02-23T10:10:36.790385Z",
     "iopub.status.busy": "2025-02-23T10:10:36.790017Z",
     "iopub.status.idle": "2025-02-23T10:10:39.908296Z",
     "shell.execute_reply": "2025-02-23T10:10:39.907167Z"
    },
    "papermill": {
     "duration": 3.127002,
     "end_time": "2025-02-23T10:10:39.910814",
     "exception": false,
     "start_time": "2025-02-23T10:10:36.783812",
     "status": "completed"
    },
    "tags": []
   },
   "outputs": [],
   "source": [
    "import numpy as np\n",
    "import pandas as pd\n",
    "import matplotlib.pyplot as plt\n",
    "import seaborn as sns\n",
    "\n",
    "from sklearn.model_selection import train_test_split\n",
    "from sklearn.neighbors import KNeighborsClassifier\n",
    "from sklearn.metrics import accuracy_score\n",
    "from sklearn.tree import DecisionTreeClassifier"
   ]
  },
  {
   "cell_type": "markdown",
   "id": "16bc378a",
   "metadata": {
    "papermill": {
     "duration": 0.005303,
     "end_time": "2025-02-23T10:10:39.921367",
     "exception": false,
     "start_time": "2025-02-23T10:10:39.916064",
     "status": "completed"
    },
    "tags": []
   },
   "source": [
    "# Loading the DataFrame"
   ]
  },
  {
   "cell_type": "code",
   "execution_count": 2,
   "id": "17a82bee",
   "metadata": {
    "execution": {
     "iopub.execute_input": "2025-02-23T10:10:39.933664Z",
     "iopub.status.busy": "2025-02-23T10:10:39.933135Z",
     "iopub.status.idle": "2025-02-23T10:10:39.954861Z",
     "shell.execute_reply": "2025-02-23T10:10:39.953638Z"
    },
    "papermill": {
     "duration": 0.030804,
     "end_time": "2025-02-23T10:10:39.957496",
     "exception": false,
     "start_time": "2025-02-23T10:10:39.926692",
     "status": "completed"
    },
    "tags": []
   },
   "outputs": [
    {
     "name": "stdout",
     "output_type": "stream",
     "text": [
      "DataFrame has been loaded\n"
     ]
    }
   ],
   "source": [
    "df = pd.read_csv(\"/kaggle/input/iriscsv/Iris.csv\")\n",
    "print(\"DataFrame has been loaded\")"
   ]
  },
  {
   "cell_type": "markdown",
   "id": "aa4730b7",
   "metadata": {
    "papermill": {
     "duration": 0.006172,
     "end_time": "2025-02-23T10:10:39.968913",
     "exception": false,
     "start_time": "2025-02-23T10:10:39.962741",
     "status": "completed"
    },
    "tags": []
   },
   "source": [
    "# Learing About the data set"
   ]
  },
  {
   "cell_type": "code",
   "execution_count": 3,
   "id": "df97d305",
   "metadata": {
    "execution": {
     "iopub.execute_input": "2025-02-23T10:10:39.981655Z",
     "iopub.status.busy": "2025-02-23T10:10:39.981264Z",
     "iopub.status.idle": "2025-02-23T10:10:40.027435Z",
     "shell.execute_reply": "2025-02-23T10:10:40.025688Z"
    },
    "papermill": {
     "duration": 0.057263,
     "end_time": "2025-02-23T10:10:40.031309",
     "exception": false,
     "start_time": "2025-02-23T10:10:39.974046",
     "status": "completed"
    },
    "tags": []
   },
   "outputs": [
    {
     "data": {
      "text/html": [
       "<div>\n",
       "<style scoped>\n",
       "    .dataframe tbody tr th:only-of-type {\n",
       "        vertical-align: middle;\n",
       "    }\n",
       "\n",
       "    .dataframe tbody tr th {\n",
       "        vertical-align: top;\n",
       "    }\n",
       "\n",
       "    .dataframe thead th {\n",
       "        text-align: right;\n",
       "    }\n",
       "</style>\n",
       "<table border=\"1\" class=\"dataframe\">\n",
       "  <thead>\n",
       "    <tr style=\"text-align: right;\">\n",
       "      <th></th>\n",
       "      <th>Id</th>\n",
       "      <th>SepalLengthCm</th>\n",
       "      <th>SepalWidthCm</th>\n",
       "      <th>PetalLengthCm</th>\n",
       "      <th>PetalWidthCm</th>\n",
       "    </tr>\n",
       "  </thead>\n",
       "  <tbody>\n",
       "    <tr>\n",
       "      <th>count</th>\n",
       "      <td>150.000000</td>\n",
       "      <td>150.000000</td>\n",
       "      <td>150.000000</td>\n",
       "      <td>150.000000</td>\n",
       "      <td>150.000000</td>\n",
       "    </tr>\n",
       "    <tr>\n",
       "      <th>mean</th>\n",
       "      <td>75.500000</td>\n",
       "      <td>5.843333</td>\n",
       "      <td>3.054000</td>\n",
       "      <td>3.758667</td>\n",
       "      <td>1.198667</td>\n",
       "    </tr>\n",
       "    <tr>\n",
       "      <th>std</th>\n",
       "      <td>43.445368</td>\n",
       "      <td>0.828066</td>\n",
       "      <td>0.433594</td>\n",
       "      <td>1.764420</td>\n",
       "      <td>0.763161</td>\n",
       "    </tr>\n",
       "    <tr>\n",
       "      <th>min</th>\n",
       "      <td>1.000000</td>\n",
       "      <td>4.300000</td>\n",
       "      <td>2.000000</td>\n",
       "      <td>1.000000</td>\n",
       "      <td>0.100000</td>\n",
       "    </tr>\n",
       "    <tr>\n",
       "      <th>25%</th>\n",
       "      <td>38.250000</td>\n",
       "      <td>5.100000</td>\n",
       "      <td>2.800000</td>\n",
       "      <td>1.600000</td>\n",
       "      <td>0.300000</td>\n",
       "    </tr>\n",
       "    <tr>\n",
       "      <th>50%</th>\n",
       "      <td>75.500000</td>\n",
       "      <td>5.800000</td>\n",
       "      <td>3.000000</td>\n",
       "      <td>4.350000</td>\n",
       "      <td>1.300000</td>\n",
       "    </tr>\n",
       "    <tr>\n",
       "      <th>75%</th>\n",
       "      <td>112.750000</td>\n",
       "      <td>6.400000</td>\n",
       "      <td>3.300000</td>\n",
       "      <td>5.100000</td>\n",
       "      <td>1.800000</td>\n",
       "    </tr>\n",
       "    <tr>\n",
       "      <th>max</th>\n",
       "      <td>150.000000</td>\n",
       "      <td>7.900000</td>\n",
       "      <td>4.400000</td>\n",
       "      <td>6.900000</td>\n",
       "      <td>2.500000</td>\n",
       "    </tr>\n",
       "  </tbody>\n",
       "</table>\n",
       "</div>"
      ],
      "text/plain": [
       "               Id  SepalLengthCm  SepalWidthCm  PetalLengthCm  PetalWidthCm\n",
       "count  150.000000     150.000000    150.000000     150.000000    150.000000\n",
       "mean    75.500000       5.843333      3.054000       3.758667      1.198667\n",
       "std     43.445368       0.828066      0.433594       1.764420      0.763161\n",
       "min      1.000000       4.300000      2.000000       1.000000      0.100000\n",
       "25%     38.250000       5.100000      2.800000       1.600000      0.300000\n",
       "50%     75.500000       5.800000      3.000000       4.350000      1.300000\n",
       "75%    112.750000       6.400000      3.300000       5.100000      1.800000\n",
       "max    150.000000       7.900000      4.400000       6.900000      2.500000"
      ]
     },
     "execution_count": 3,
     "metadata": {},
     "output_type": "execute_result"
    }
   ],
   "source": [
    "df.describe()"
   ]
  },
  {
   "cell_type": "code",
   "execution_count": 4,
   "id": "2fa14621",
   "metadata": {
    "execution": {
     "iopub.execute_input": "2025-02-23T10:10:40.044743Z",
     "iopub.status.busy": "2025-02-23T10:10:40.044352Z",
     "iopub.status.idle": "2025-02-23T10:10:40.060203Z",
     "shell.execute_reply": "2025-02-23T10:10:40.058699Z"
    },
    "papermill": {
     "duration": 0.026135,
     "end_time": "2025-02-23T10:10:40.063341",
     "exception": false,
     "start_time": "2025-02-23T10:10:40.037206",
     "status": "completed"
    },
    "tags": []
   },
   "outputs": [
    {
     "data": {
      "text/html": [
       "<div>\n",
       "<style scoped>\n",
       "    .dataframe tbody tr th:only-of-type {\n",
       "        vertical-align: middle;\n",
       "    }\n",
       "\n",
       "    .dataframe tbody tr th {\n",
       "        vertical-align: top;\n",
       "    }\n",
       "\n",
       "    .dataframe thead th {\n",
       "        text-align: right;\n",
       "    }\n",
       "</style>\n",
       "<table border=\"1\" class=\"dataframe\">\n",
       "  <thead>\n",
       "    <tr style=\"text-align: right;\">\n",
       "      <th></th>\n",
       "      <th>Id</th>\n",
       "      <th>SepalLengthCm</th>\n",
       "      <th>SepalWidthCm</th>\n",
       "      <th>PetalLengthCm</th>\n",
       "      <th>PetalWidthCm</th>\n",
       "      <th>Species</th>\n",
       "    </tr>\n",
       "  </thead>\n",
       "  <tbody>\n",
       "    <tr>\n",
       "      <th>0</th>\n",
       "      <td>1</td>\n",
       "      <td>5.1</td>\n",
       "      <td>3.5</td>\n",
       "      <td>1.4</td>\n",
       "      <td>0.2</td>\n",
       "      <td>Iris-setosa</td>\n",
       "    </tr>\n",
       "    <tr>\n",
       "      <th>1</th>\n",
       "      <td>2</td>\n",
       "      <td>4.9</td>\n",
       "      <td>3.0</td>\n",
       "      <td>1.4</td>\n",
       "      <td>0.2</td>\n",
       "      <td>Iris-setosa</td>\n",
       "    </tr>\n",
       "    <tr>\n",
       "      <th>2</th>\n",
       "      <td>3</td>\n",
       "      <td>4.7</td>\n",
       "      <td>3.2</td>\n",
       "      <td>1.3</td>\n",
       "      <td>0.2</td>\n",
       "      <td>Iris-setosa</td>\n",
       "    </tr>\n",
       "    <tr>\n",
       "      <th>3</th>\n",
       "      <td>4</td>\n",
       "      <td>4.6</td>\n",
       "      <td>3.1</td>\n",
       "      <td>1.5</td>\n",
       "      <td>0.2</td>\n",
       "      <td>Iris-setosa</td>\n",
       "    </tr>\n",
       "    <tr>\n",
       "      <th>4</th>\n",
       "      <td>5</td>\n",
       "      <td>5.0</td>\n",
       "      <td>3.6</td>\n",
       "      <td>1.4</td>\n",
       "      <td>0.2</td>\n",
       "      <td>Iris-setosa</td>\n",
       "    </tr>\n",
       "  </tbody>\n",
       "</table>\n",
       "</div>"
      ],
      "text/plain": [
       "   Id  SepalLengthCm  SepalWidthCm  PetalLengthCm  PetalWidthCm      Species\n",
       "0   1            5.1           3.5            1.4           0.2  Iris-setosa\n",
       "1   2            4.9           3.0            1.4           0.2  Iris-setosa\n",
       "2   3            4.7           3.2            1.3           0.2  Iris-setosa\n",
       "3   4            4.6           3.1            1.5           0.2  Iris-setosa\n",
       "4   5            5.0           3.6            1.4           0.2  Iris-setosa"
      ]
     },
     "execution_count": 4,
     "metadata": {},
     "output_type": "execute_result"
    }
   ],
   "source": [
    "df.head()"
   ]
  },
  {
   "cell_type": "markdown",
   "id": "1eddbbd7",
   "metadata": {
    "papermill": {
     "duration": 0.00559,
     "end_time": "2025-02-23T10:10:40.075902",
     "exception": false,
     "start_time": "2025-02-23T10:10:40.070312",
     "status": "completed"
    },
    "tags": []
   },
   "source": [
    "# Droping The Id Coloumn "
   ]
  },
  {
   "cell_type": "code",
   "execution_count": 5,
   "id": "a569b401",
   "metadata": {
    "execution": {
     "iopub.execute_input": "2025-02-23T10:10:40.090527Z",
     "iopub.status.busy": "2025-02-23T10:10:40.090127Z",
     "iopub.status.idle": "2025-02-23T10:10:40.102130Z",
     "shell.execute_reply": "2025-02-23T10:10:40.100985Z"
    },
    "papermill": {
     "duration": 0.022421,
     "end_time": "2025-02-23T10:10:40.104623",
     "exception": false,
     "start_time": "2025-02-23T10:10:40.082202",
     "status": "completed"
    },
    "tags": []
   },
   "outputs": [],
   "source": [
    "df.drop(\"Id\", axis='columns',inplace = True)"
   ]
  },
  {
   "cell_type": "code",
   "execution_count": 6,
   "id": "6d6d0b63",
   "metadata": {
    "execution": {
     "iopub.execute_input": "2025-02-23T10:10:40.117910Z",
     "iopub.status.busy": "2025-02-23T10:10:40.117030Z",
     "iopub.status.idle": "2025-02-23T10:10:40.130138Z",
     "shell.execute_reply": "2025-02-23T10:10:40.128953Z"
    },
    "papermill": {
     "duration": 0.022043,
     "end_time": "2025-02-23T10:10:40.132233",
     "exception": false,
     "start_time": "2025-02-23T10:10:40.110190",
     "status": "completed"
    },
    "tags": []
   },
   "outputs": [
    {
     "data": {
      "text/html": [
       "<div>\n",
       "<style scoped>\n",
       "    .dataframe tbody tr th:only-of-type {\n",
       "        vertical-align: middle;\n",
       "    }\n",
       "\n",
       "    .dataframe tbody tr th {\n",
       "        vertical-align: top;\n",
       "    }\n",
       "\n",
       "    .dataframe thead th {\n",
       "        text-align: right;\n",
       "    }\n",
       "</style>\n",
       "<table border=\"1\" class=\"dataframe\">\n",
       "  <thead>\n",
       "    <tr style=\"text-align: right;\">\n",
       "      <th></th>\n",
       "      <th>SepalLengthCm</th>\n",
       "      <th>SepalWidthCm</th>\n",
       "      <th>PetalLengthCm</th>\n",
       "      <th>PetalWidthCm</th>\n",
       "      <th>Species</th>\n",
       "    </tr>\n",
       "  </thead>\n",
       "  <tbody>\n",
       "    <tr>\n",
       "      <th>0</th>\n",
       "      <td>5.1</td>\n",
       "      <td>3.5</td>\n",
       "      <td>1.4</td>\n",
       "      <td>0.2</td>\n",
       "      <td>Iris-setosa</td>\n",
       "    </tr>\n",
       "    <tr>\n",
       "      <th>1</th>\n",
       "      <td>4.9</td>\n",
       "      <td>3.0</td>\n",
       "      <td>1.4</td>\n",
       "      <td>0.2</td>\n",
       "      <td>Iris-setosa</td>\n",
       "    </tr>\n",
       "    <tr>\n",
       "      <th>2</th>\n",
       "      <td>4.7</td>\n",
       "      <td>3.2</td>\n",
       "      <td>1.3</td>\n",
       "      <td>0.2</td>\n",
       "      <td>Iris-setosa</td>\n",
       "    </tr>\n",
       "    <tr>\n",
       "      <th>3</th>\n",
       "      <td>4.6</td>\n",
       "      <td>3.1</td>\n",
       "      <td>1.5</td>\n",
       "      <td>0.2</td>\n",
       "      <td>Iris-setosa</td>\n",
       "    </tr>\n",
       "    <tr>\n",
       "      <th>4</th>\n",
       "      <td>5.0</td>\n",
       "      <td>3.6</td>\n",
       "      <td>1.4</td>\n",
       "      <td>0.2</td>\n",
       "      <td>Iris-setosa</td>\n",
       "    </tr>\n",
       "  </tbody>\n",
       "</table>\n",
       "</div>"
      ],
      "text/plain": [
       "   SepalLengthCm  SepalWidthCm  PetalLengthCm  PetalWidthCm      Species\n",
       "0            5.1           3.5            1.4           0.2  Iris-setosa\n",
       "1            4.9           3.0            1.4           0.2  Iris-setosa\n",
       "2            4.7           3.2            1.3           0.2  Iris-setosa\n",
       "3            4.6           3.1            1.5           0.2  Iris-setosa\n",
       "4            5.0           3.6            1.4           0.2  Iris-setosa"
      ]
     },
     "execution_count": 6,
     "metadata": {},
     "output_type": "execute_result"
    }
   ],
   "source": [
    "df.head()"
   ]
  },
  {
   "cell_type": "markdown",
   "id": "a023258c",
   "metadata": {
    "papermill": {
     "duration": 0.007647,
     "end_time": "2025-02-23T10:10:40.146246",
     "exception": false,
     "start_time": "2025-02-23T10:10:40.138599",
     "status": "completed"
    },
    "tags": []
   },
   "source": [
    "# Making A corealtion HeatMap"
   ]
  },
  {
   "cell_type": "code",
   "execution_count": 7,
   "id": "b63cc14f",
   "metadata": {
    "execution": {
     "iopub.execute_input": "2025-02-23T10:10:40.160239Z",
     "iopub.status.busy": "2025-02-23T10:10:40.159837Z",
     "iopub.status.idle": "2025-02-23T10:10:40.553965Z",
     "shell.execute_reply": "2025-02-23T10:10:40.552589Z"
    },
    "papermill": {
     "duration": 0.405644,
     "end_time": "2025-02-23T10:10:40.557894",
     "exception": false,
     "start_time": "2025-02-23T10:10:40.152250",
     "status": "completed"
    },
    "tags": []
   },
   "outputs": [
    {
     "data": {
      "image/png": "[encoded data removed]",
      "text/plain": [
       "<Figure size 1000x500 with 2 Axes>"
      ]
     },
     "metadata": {},
     "output_type": "display_data"
    }
   ],
   "source": [
    "# Select only numerical columns\n",
    "numerical_columns = df.select_dtypes(include=['number'])\n",
    "\n",
    "# Compute correlation matrix\n",
    "correlation_matrix = numerical_columns.corr()\n",
    "plt.figure(figsize=(10,5))\n",
    "sns.heatmap(correlation_matrix,annot= True, cmap='RdYlGn')\n",
    "plt.title(\"Correlation of Iris dataset\")\n",
    "plt.show()"
   ]
  },
  {
   "cell_type": "markdown",
   "id": "91d5ffa6",
   "metadata": {
    "papermill": {
     "duration": 0.006669,
     "end_time": "2025-02-23T10:10:40.574213",
     "exception": false,
     "start_time": "2025-02-23T10:10:40.567544",
     "status": "completed"
    },
    "tags": []
   },
   "source": [
    "# Extract features and target\n"
   ]
  },
  {
   "cell_type": "code",
   "execution_count": 8,
   "id": "33b1fd83",
   "metadata": {
    "execution": {
     "iopub.execute_input": "2025-02-23T10:10:40.589863Z",
     "iopub.status.busy": "2025-02-23T10:10:40.589448Z",
     "iopub.status.idle": "2025-02-23T10:10:40.595926Z",
     "shell.execute_reply": "2025-02-23T10:10:40.594849Z"
    },
    "papermill": {
     "duration": 0.016689,
     "end_time": "2025-02-23T10:10:40.598376",
     "exception": false,
     "start_time": "2025-02-23T10:10:40.581687",
     "status": "completed"
    },
    "tags": []
   },
   "outputs": [],
   "source": [
    "X = df[['SepalLengthCm', 'SepalWidthCm', 'PetalLengthCm', 'PetalWidthCm']]\n",
    "y = df['Species']"
   ]
  },
  {
   "cell_type": "code",
   "execution_count": 9,
   "id": "866bfe3c",
   "metadata": {
    "execution": {
     "iopub.execute_input": "2025-02-23T10:10:40.612881Z",
     "iopub.status.busy": "2025-02-23T10:10:40.612462Z",
     "iopub.status.idle": "2025-02-23T10:10:40.624775Z",
     "shell.execute_reply": "2025-02-23T10:10:40.623442Z"
    },
    "papermill": {
     "duration": 0.022177,
     "end_time": "2025-02-23T10:10:40.627001",
     "exception": false,
     "start_time": "2025-02-23T10:10:40.604824",
     "status": "completed"
    },
    "tags": []
   },
   "outputs": [
    {
     "name": "stdout",
     "output_type": "stream",
     "text": [
      "['Iris-setosa' 'Iris-setosa' 'Iris-setosa' 'Iris-setosa' 'Iris-setosa'\n",
      " 'Iris-setosa' 'Iris-setosa' 'Iris-setosa' 'Iris-setosa' 'Iris-setosa'\n",
      " 'Iris-setosa' 'Iris-setosa' 'Iris-setosa' 'Iris-setosa' 'Iris-setosa'\n",
      " 'Iris-setosa' 'Iris-setosa' 'Iris-setosa' 'Iris-setosa' 'Iris-setosa'\n",
      " 'Iris-setosa' 'Iris-setosa' 'Iris-setosa' 'Iris-setosa' 'Iris-setosa'\n",
      " 'Iris-setosa' 'Iris-setosa' 'Iris-setosa' 'Iris-setosa' 'Iris-setosa'\n",
      " 'Iris-setosa' 'Iris-setosa' 'Iris-setosa' 'Iris-setosa' 'Iris-setosa'\n",
      " 'Iris-setosa' 'Iris-setosa' 'Iris-setosa' 'Iris-setosa' 'Iris-setosa'\n",
      " 'Iris-setosa' 'Iris-setosa' 'Iris-setosa' 'Iris-setosa' 'Iris-setosa'\n",
      " 'Iris-setosa' 'Iris-setosa' 'Iris-setosa' 'Iris-setosa' 'Iris-setosa'\n",
      " 'Iris-versicolor' 'Iris-versicolor' 'Iris-versicolor' 'Iris-versicolor'\n",
      " 'Iris-versicolor' 'Iris-versicolor' 'Iris-versicolor' 'Iris-versicolor'\n",
      " 'Iris-versicolor' 'Iris-versicolor' 'Iris-versicolor' 'Iris-versicolor'\n",
      " 'Iris-versicolor' 'Iris-versicolor' 'Iris-versicolor' 'Iris-versicolor'\n",
      " 'Iris-versicolor' 'Iris-versicolor' 'Iris-versicolor' 'Iris-versicolor'\n",
      " 'Iris-versicolor' 'Iris-versicolor' 'Iris-versicolor' 'Iris-versicolor'\n",
      " 'Iris-versicolor' 'Iris-versicolor' 'Iris-versicolor' 'Iris-versicolor'\n",
      " 'Iris-versicolor' 'Iris-versicolor' 'Iris-versicolor' 'Iris-versicolor'\n",
      " 'Iris-versicolor' 'Iris-versicolor' 'Iris-versicolor' 'Iris-versicolor'\n",
      " 'Iris-versicolor' 'Iris-versicolor' 'Iris-versicolor' 'Iris-versicolor'\n",
      " 'Iris-versicolor' 'Iris-versicolor' 'Iris-versicolor' 'Iris-versicolor'\n",
      " 'Iris-versicolor' 'Iris-versicolor' 'Iris-versicolor' 'Iris-versicolor'\n",
      " 'Iris-versicolor' 'Iris-versicolor' 'Iris-virginica' 'Iris-virginica'\n",
      " 'Iris-virginica' 'Iris-virginica' 'Iris-virginica' 'Iris-virginica'\n",
      " 'Iris-virginica' 'Iris-virginica' 'Iris-virginica' 'Iris-virginica'\n",
      " 'Iris-virginica' 'Iris-virginica' 'Iris-virginica' 'Iris-virginica'\n",
      " 'Iris-virginica' 'Iris-virginica' 'Iris-virginica' 'Iris-virginica'\n",
      " 'Iris-virginica' 'Iris-virginica' 'Iris-virginica' 'Iris-virginica'\n",
      " 'Iris-virginica' 'Iris-virginica' 'Iris-virginica' 'Iris-virginica'\n",
      " 'Iris-virginica' 'Iris-virginica' 'Iris-virginica' 'Iris-virginica'\n",
      " 'Iris-virginica' 'Iris-virginica' 'Iris-virginica' 'Iris-virginica'\n",
      " 'Iris-virginica' 'Iris-virginica' 'Iris-virginica' 'Iris-virginica'\n",
      " 'Iris-virginica' 'Iris-virginica' 'Iris-virginica' 'Iris-virginica'\n",
      " 'Iris-virginica' 'Iris-virginica' 'Iris-virginica' 'Iris-virginica'\n",
      " 'Iris-virginica' 'Iris-virginica' 'Iris-virginica' 'Iris-virginica']\n"
     ]
    }
   ],
   "source": [
    "clf = DecisionTreeClassifier()\n",
    "clf = clf.fit(X, y)\n",
    "prediction = clf.predict(X)\n",
    "\n",
    "# CHALLENGE compare their reusults and print the best one!\n",
    "print(prediction)"
   ]
  },
  {
   "cell_type": "markdown",
   "id": "8ade7e50",
   "metadata": {
    "papermill": {
     "duration": 0.006702,
     "end_time": "2025-02-23T10:10:40.640161",
     "exception": false,
     "start_time": "2025-02-23T10:10:40.633459",
     "status": "completed"
    },
    "tags": []
   },
   "source": []
  },
  {
   "cell_type": "markdown",
   "id": "27cffa91",
   "metadata": {
    "papermill": {
     "duration": 0.006805,
     "end_time": "2025-02-23T10:10:40.653384",
     "exception": false,
     "start_time": "2025-02-23T10:10:40.646579",
     "status": "completed"
    },
    "tags": []
   },
   "source": [
    "# Split data into training and testing sets\n",
    "\n"
   ]
  },
  {
   "cell_type": "code",
   "execution_count": 10,
   "id": "64e66b43",
   "metadata": {
    "execution": {
     "iopub.execute_input": "2025-02-23T10:10:40.668522Z",
     "iopub.status.busy": "2025-02-23T10:10:40.668148Z",
     "iopub.status.idle": "2025-02-23T10:10:40.677039Z",
     "shell.execute_reply": "2025-02-23T10:10:40.675808Z"
    },
    "papermill": {
     "duration": 0.019541,
     "end_time": "2025-02-23T10:10:40.679889",
     "exception": false,
     "start_time": "2025-02-23T10:10:40.660348",
     "status": "completed"
    },
    "tags": []
   },
   "outputs": [],
   "source": [
    "X_train, X_test, y_train, y_test = train_test_split(X, y, test_size=0.2, random_state=42)\n"
   ]
  },
  {
   "cell_type": "markdown",
   "id": "e0da7929",
   "metadata": {
    "papermill": {
     "duration": 0.006176,
     "end_time": "2025-02-23T10:10:40.692752",
     "exception": false,
     "start_time": "2025-02-23T10:10:40.686576",
     "status": "completed"
    },
    "tags": []
   },
   "source": [
    "# Initialize and train the model (k-NN with k=3)\n",
    "\n"
   ]
  },
  {
   "cell_type": "code",
   "execution_count": 11,
   "id": "fb8189fa",
   "metadata": {
    "execution": {
     "iopub.execute_input": "2025-02-23T10:10:40.708257Z",
     "iopub.status.busy": "2025-02-23T10:10:40.707899Z",
     "iopub.status.idle": "2025-02-23T10:10:40.719418Z",
     "shell.execute_reply": "2025-02-23T10:10:40.718322Z"
    },
    "papermill": {
     "duration": 0.0221,
     "end_time": "2025-02-23T10:10:40.721683",
     "exception": false,
     "start_time": "2025-02-23T10:10:40.699583",
     "status": "completed"
    },
    "tags": []
   },
   "outputs": [
    {
     "data": {
      "text/html": [
       "<style>#sk-container-id-1 {color: black;background-color: white;}#sk-container-id-1 pre{padding: 0;}#sk-container-id-1 div.sk-toggleable {background-color: white;}#sk-container-id-1 label.sk-toggleable__label {cursor: pointer;display: block;width: 100%;margin-bottom: 0;padding: 0.3em;box-sizing: border-box;text-align: center;}#sk-container-id-1 label.sk-toggleable__label-arrow:before {content: \"▸\";float: left;margin-right: 0.25em;color: #696969;}#sk-container-id-1 label.sk-toggleable__label-arrow:hover:before {color: black;}#sk-container-id-1 div.sk-estimator:hover label.sk-toggleable__label-arrow:before {color: black;}#sk-container-id-1 div.sk-toggleable__content {max-height: 0;max-width: 0;overflow: hidden;text-align: left;background-color: #f0f8ff;}#sk-container-id-1 div.sk-toggleable__content pre {margin: 0.2em;color: black;border-radius: 0.25em;background-color: #f0f8ff;}#sk-container-id-1 input.sk-toggleable__control:checked~div.sk-toggleable__content {max-height: 200px;max-width: 100%;overflow: auto;}#sk-container-id-1 input.sk-toggleable__control:checked~label.sk-toggleable__label-arrow:before {content: \"▾\";}#sk-container-id-1 div.sk-estimator input.sk-toggleable__control:checked~label.sk-toggleable__label {background-color: #d4ebff;}#sk-container-id-1 div.sk-label input.sk-toggleable__control:checked~label.sk-toggleable__label {background-color: #d4ebff;}#sk-container-id-1 input.sk-hidden--visually {border: 0;clip: rect(1px 1px 1px 1px);clip: rect(1px, 1px, 1px, 1px);height: 1px;margin: -1px;overflow: hidden;padding: 0;position: absolute;width: 1px;}#sk-container-id-1 div.sk-estimator {font-family: monospace;background-color: #f0f8ff;border: 1px dotted black;border-radius: 0.25em;box-sizing: border-box;margin-bottom: 0.5em;}#sk-container-id-1 div.sk-estimator:hover {background-color: #d4ebff;}#sk-container-id-1 div.sk-parallel-item::after {content: \"\";width: 100%;border-bottom: 1px solid gray;flex-grow: 1;}#sk-container-id-1 div.sk-label:hover label.sk-toggleable__label {background-color: #d4ebff;}#sk-container-id-1 div.sk-serial::before {content: \"\";position: absolute;border-left: 1px solid gray;box-sizing: border-box;top: 0;bottom: 0;left: 50%;z-index: 0;}#sk-container-id-1 div.sk-serial {display: flex;flex-direction: column;align-items: center;background-color: white;padding-right: 0.2em;padding-left: 0.2em;position: relative;}#sk-container-id-1 div.sk-item {position: relative;z-index: 1;}#sk-container-id-1 div.sk-parallel {display: flex;align-items: stretch;justify-content: center;background-color: white;position: relative;}#sk-container-id-1 div.sk-item::before, #sk-container-id-1 div.sk-parallel-item::before {content: \"\";position: absolute;border-left: 1px solid gray;box-sizing: border-box;top: 0;bottom: 0;left: 50%;z-index: -1;}#sk-container-id-1 div.sk-parallel-item {display: flex;flex-direction: column;z-index: 1;position: relative;background-color: white;}#sk-container-id-1 div.sk-parallel-item:first-child::after {align-self: flex-end;width: 50%;}#sk-container-id-1 div.sk-parallel-item:last-child::after {align-self: flex-start;width: 50%;}#sk-container-id-1 div.sk-parallel-item:only-child::after {width: 0;}#sk-container-id-1 div.sk-dashed-wrapped {border: 1px dashed gray;margin: 0 0.4em 0.5em 0.4em;box-sizing: border-box;padding-bottom: 0.4em;background-color: white;}#sk-container-id-1 div.sk-label label {font-family: monospace;font-weight: bold;display: inline-block;line-height: 1.2em;}#sk-container-id-1 div.sk-label-container {text-align: center;}#sk-container-id-1 div.sk-container {/* jupyter's `normalize.less` sets `[hidden] { display: none; }` but bootstrap.min.css set `[hidden] { display: none !important; }` so we also need the `!important` here to be able to override the default hidden behavior on the sphinx rendered scikit-learn.org. See: https://github.com/scikit-learn/scikit-learn/issues/21755 */display: inline-block !important;position: relative;}#sk-container-id-1 div.sk-text-repr-fallback {display: none;}</style><div id=\"sk-container-id-1\" class=\"sk-top-container\"><div class=\"sk-text-repr-fallback\"><pre>KNeighborsClassifier(n_neighbors=3)</pre><b>In a Jupyter environment, please rerun this cell to show the HTML representation or trust the notebook. <br />On GitHub, the HTML representation is unable to render, please try loading this page with nbviewer.org.</b></div><div class=\"sk-container\" hidden><div class=\"sk-item\"><div class=\"sk-estimator sk-toggleable\"><input class=\"sk-toggleable__control sk-hidden--visually\" id=\"sk-estimator-id-1\" type=\"checkbox\" checked><label for=\"sk-estimator-id-1\" class=\"sk-toggleable__label sk-toggleable__label-arrow\">KNeighborsClassifier</label><div class=\"sk-toggleable__content\"><pre>KNeighborsClassifier(n_neighbors=3)</pre></div></div></div></div></div>"
      ],
      "text/plain": [
       "KNeighborsClassifier(n_neighbors=3)"
      ]
     },
     "execution_count": 11,
     "metadata": {},
     "output_type": "execute_result"
    }
   ],
   "source": [
    "knn = KNeighborsClassifier(n_neighbors=3)\n",
    "knn.fit(X_train, y_train)\n"
   ]
  },
  {
   "cell_type": "markdown",
   "id": "06197fa2",
   "metadata": {
    "papermill": {
     "duration": 0.006516,
     "end_time": "2025-02-23T10:10:40.735451",
     "exception": false,
     "start_time": "2025-02-23T10:10:40.728935",
     "status": "completed"
    },
    "tags": []
   },
   "source": [
    "# Make predictions\n"
   ]
  },
  {
   "cell_type": "code",
   "execution_count": 12,
   "id": "5fbb64b5",
   "metadata": {
    "execution": {
     "iopub.execute_input": "2025-02-23T10:10:40.751200Z",
     "iopub.status.busy": "2025-02-23T10:10:40.750845Z",
     "iopub.status.idle": "2025-02-23T10:10:40.767641Z",
     "shell.execute_reply": "2025-02-23T10:10:40.766637Z"
    },
    "papermill": {
     "duration": 0.028344,
     "end_time": "2025-02-23T10:10:40.771008",
     "exception": false,
     "start_time": "2025-02-23T10:10:40.742664",
     "status": "completed"
    },
    "tags": []
   },
   "outputs": [],
   "source": [
    "y_pred = knn.predict(X)"
   ]
  },
  {
   "cell_type": "markdown",
   "id": "12a4e5d0",
   "metadata": {
    "papermill": {
     "duration": 0.008082,
     "end_time": "2025-02-23T10:10:40.788609",
     "exception": false,
     "start_time": "2025-02-23T10:10:40.780527",
     "status": "completed"
    },
    "tags": []
   },
   "source": [
    "# Evaluate the model\n"
   ]
  },
  {
   "cell_type": "code",
   "execution_count": 13,
   "id": "9731328c",
   "metadata": {
    "execution": {
     "iopub.execute_input": "2025-02-23T10:10:40.806623Z",
     "iopub.status.busy": "2025-02-23T10:10:40.806132Z",
     "iopub.status.idle": "2025-02-23T10:10:40.823863Z",
     "shell.execute_reply": "2025-02-23T10:10:40.821903Z"
    },
    "papermill": {
     "duration": 0.029306,
     "end_time": "2025-02-23T10:10:40.826209",
     "exception": false,
     "start_time": "2025-02-23T10:10:40.796903",
     "status": "completed"
    },
    "tags": []
   },
   "outputs": [
    {
     "name": "stdout",
     "output_type": "stream",
     "text": [
      "Model Accuracy: 100.00%\n"
     ]
    }
   ],
   "source": [
    "y_pred = knn.predict(X_test) \n",
    "accuracy = accuracy_score(y_test, y_pred)  \n",
    "print(f\"Model Accuracy: {accuracy * 100:.2f}%\")"
   ]
  },
  {
   "cell_type": "markdown",
   "id": "a70216ff",
   "metadata": {
    "papermill": {
     "duration": 0.007313,
     "end_time": "2025-02-23T10:10:40.840673",
     "exception": false,
     "start_time": "2025-02-23T10:10:40.833360",
     "status": "completed"
    },
    "tags": []
   },
   "source": [
    "# Predict for new data\n"
   ]
  },
  {
   "cell_type": "code",
   "execution_count": 14,
   "id": "877964b3",
   "metadata": {
    "execution": {
     "iopub.execute_input": "2025-02-23T10:10:40.857577Z",
     "iopub.status.busy": "2025-02-23T10:10:40.857173Z",
     "iopub.status.idle": "2025-02-23T10:10:40.862788Z",
     "shell.execute_reply": "2025-02-23T10:10:40.861331Z"
    },
    "papermill": {
     "duration": 0.016773,
     "end_time": "2025-02-23T10:10:40.865120",
     "exception": false,
     "start_time": "2025-02-23T10:10:40.848347",
     "status": "completed"
    },
    "tags": []
   },
   "outputs": [],
   "source": [
    "def predict_species(sepal_length, sepal_width, petal_length, petal_width):\n",
    "    return knn.predict([[sepal_length, sepal_width, petal_length, petal_width]])[0]"
   ]
  },
  {
   "cell_type": "markdown",
   "id": "664fb3bf",
   "metadata": {
    "papermill": {
     "duration": 0.006806,
     "end_time": "2025-02-23T10:10:40.879045",
     "exception": false,
     "start_time": "2025-02-23T10:10:40.872239",
     "status": "completed"
    },
    "tags": []
   },
   "source": [
    "# Example usage\n",
    "\n"
   ]
  },
  {
   "cell_type": "code",
   "execution_count": 15,
   "id": "b48fe14f",
   "metadata": {
    "execution": {
     "iopub.execute_input": "2025-02-23T10:10:40.895051Z",
     "iopub.status.busy": "2025-02-23T10:10:40.894635Z",
     "iopub.status.idle": "2025-02-23T10:10:40.905301Z",
     "shell.execute_reply": "2025-02-23T10:10:40.903886Z"
    },
    "papermill": {
     "duration": 0.021703,
     "end_time": "2025-02-23T10:10:40.907669",
     "exception": false,
     "start_time": "2025-02-23T10:10:40.885966",
     "status": "completed"
    },
    "tags": []
   },
   "outputs": [
    {
     "name": "stdout",
     "output_type": "stream",
     "text": [
      "Predicted Species: Iris-setosa\n"
     ]
    },
    {
     "name": "stderr",
     "output_type": "stream",
     "text": [
      "/opt/conda/lib/python3.10/site-packages/sklearn/base.py:439: UserWarning: X does not have valid feature names, but KNeighborsClassifier was fitted with feature names\n",
      "  warnings.warn(\n"
     ]
    }
   ],
   "source": [
    "species = predict_species(5.1, 3.5, 1.4, 0.2) # this is the data of Iris-sentosa\n",
    "print(f\"Predicted Species: {species}\")"
   ]
  },
  {
   "cell_type": "markdown",
   "id": "d6c1b124",
   "metadata": {
    "papermill": {
     "duration": 0.008435,
     "end_time": "2025-02-23T10:10:40.924411",
     "exception": false,
     "start_time": "2025-02-23T10:10:40.915976",
     "status": "completed"
    },
    "tags": []
   },
   "source": [
    "# Thank You\n",
    "If you find this notebook intresting, kindly give a upvote "
   ]
  }
 ],
 "metadata": {
  "kaggle": {
   "accelerator": "none",
   "dataSources": [
    {
     "datasetId": 4247,
     "sourceId": 6570,
     "sourceType": "datasetVersion"
    }
   ],
   "dockerImageVersionId": 30786,
   "isGpuEnabled": false,
   "isInternetEnabled": true,
   "language": "python",
   "sourceType": "notebook"
  },
  "kernelspec": {
   "display_name": "Python 3",
   "language": "python",
   "name": "python3"
  },
  "language_info": {
   "codemirror_mode": {
    "name": "ipython",
    "version": 3
   },
   "file_extension": ".py",
   "mimetype": "text/x-python",
   "name": "python",
   "nbconvert_exporter": "python",
   "pygments_lexer": "ipython3",
   "version": "3.10.14"
  },
  "papermill": {
   "default_parameters": {},
   "duration": 8.114292,
   "end_time": "2025-02-23T10:10:41.553939",
   "environment_variables": {},
   "exception": null,
   "input_path": "__notebook__.ipynb",
   "output_path": "__notebook__.ipynb",
   "parameters": {},
   "start_time": "2025-02-23T10:10:33.439647",
   "version": "2.6.0"
  }
 },
 "nbformat": 4,
 "nbformat_minor": 5
}
